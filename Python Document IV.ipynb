{
 "cells": [
  {
   "cell_type": "markdown",
   "metadata": {},
   "source": [
    "# Object-Oriented-Programming (OOP)"
   ]
  },
  {
   "cell_type": "markdown",
   "metadata": {},
   "source": [
    "## Tasks Today:\n",
    "\n",
    "   \n",
    "\n",
    "1) <b>Creating a Class (Initializing/Declaring)</b> <br>\n",
    "2) <b>Using a Class (Instantiating)</b> <br>\n",
    " &nbsp;&nbsp;&nbsp;&nbsp; a) Creating One Instance <br>\n",
    " &nbsp;&nbsp;&nbsp;&nbsp; b) Creating Multiple Instances <br>\n",
    " &nbsp;&nbsp;&nbsp;&nbsp; c) In-Class Exercise #1 - Create a Class 'Car' and instantiate three different makes of cars <br>\n",
    "3) <b>The \\__init\\__() Method</b> <br>\n",
    " &nbsp;&nbsp;&nbsp;&nbsp; a) The 'self' Attribute <br>\n",
    "4) <b>Class Attributes</b> <br>\n",
    " &nbsp;&nbsp;&nbsp;&nbsp; a) Initializing Attributes <br>\n",
    " &nbsp;&nbsp;&nbsp;&nbsp; b) Setting an Attribute Outside of the \\__init\\__() Method <br>\n",
    " &nbsp;&nbsp;&nbsp;&nbsp; c) Setting Defaults for Attributes <br>\n",
    " &nbsp;&nbsp;&nbsp;&nbsp; d) Accessing Class Attributes <br>\n",
    " &nbsp;&nbsp;&nbsp;&nbsp; e) Changing Class Attributes <br>\n",
    " &nbsp;&nbsp;&nbsp;&nbsp; f) In-Class Exercise #2 - Add a color and wheels attribute to your 'Car' class <br>\n",
    "5) <b>Class Methods</b> <br>\n",
    " &nbsp;&nbsp;&nbsp;&nbsp; a) Creating <br>\n",
    " &nbsp;&nbsp;&nbsp;&nbsp; b) Calling <br>\n",
    " &nbsp;&nbsp;&nbsp;&nbsp; c) Modifying an Attribute's Value Through a Method <br>\n",
    " &nbsp;&nbsp;&nbsp;&nbsp; d) Incrementing an Attribute's Value Through a Method <br>\n",
    " &nbsp;&nbsp;&nbsp;&nbsp; e) In-Class Exercise #3 - Add a method that prints the cars color and wheel number, then call them <br>\n",
    "6) <b>Inheritance</b> <br>\n",
    " &nbsp;&nbsp;&nbsp;&nbsp; a) Syntax for Inheriting from a Parent Class <br>\n",
    " &nbsp;&nbsp;&nbsp;&nbsp; b) The \\__init\\__() Method for a Child Class (super()) <br>\n",
    " &nbsp;&nbsp;&nbsp;&nbsp; c) Defining Attributes and Methods for the Child Class <br>\n",
    " &nbsp;&nbsp;&nbsp;&nbsp; d) Method Overriding <br>\n",
    " &nbsp;&nbsp;&nbsp;&nbsp; e) In-Class Exercise #4 - Create a class 'Ford' that inherits from 'Car' class and initialize it as a Blue Ford Explorer with 4 wheels using the super() method <br>\n",
    "7) <b>Classes as Attributes</b> <br>\n",
    "8) <b>Exercises</b> <br>\n",
    " &nbsp;&nbsp;&nbsp;&nbsp; a) Exercise #1 - Turn the shopping cart program from yesterday into an object-oriented program <br>"
   ]
  },
  {
   "cell_type": "markdown",
   "metadata": {},
   "source": [
    "## Creating a Class (Initializing/Declaring)\n",
    "<p>When creating a class, function, or even a variable you are initializing that object. Initializing and Declaring occur at the same time in Python, whereas in lower level languages you have to declare an object before initializing it. This is the first step in the process of using a class.</p>"
   ]
  },
  {
   "cell_type": "code",
   "execution_count": 8,
   "metadata": {},
   "outputs": [],
   "source": [
    "# First letter should be capital of the var defining class\n",
    "class Car():\n",
    "    wheels = 4\n",
    "    color = 'blue'"
   ]
  },
  {
   "cell_type": "markdown",
   "metadata": {},
   "source": [
    "## Using a Class (Instantiating)\n",
    "<p>The process of creating a class is called <i>Instantiating</i>. Each time you create a variable of that type of class, it is referred to as an <i>Instance</i> of that class. This is the second step in the process of using a class.</p>"
   ]
  },
  {
   "cell_type": "markdown",
   "metadata": {},
   "source": [
    "##### Creating One Instance"
   ]
  },
  {
   "cell_type": "code",
   "execution_count": 9,
   "metadata": {},
   "outputs": [
    {
     "name": "stdout",
     "output_type": "stream",
     "text": [
      "blue\n"
     ]
    }
   ],
   "source": [
    "ford = Car()\n",
    "# access in object\n",
    "print(ford.color)"
   ]
  },
  {
   "cell_type": "markdown",
   "metadata": {},
   "source": [
    "##### Creating Multiple Instances"
   ]
  },
  {
   "cell_type": "code",
   "execution_count": 10,
   "metadata": {},
   "outputs": [
    {
     "name": "stdout",
     "output_type": "stream",
     "text": [
      "<class 'str'>\n"
     ]
    }
   ],
   "source": [
    "chevrolet=Car()\n",
    "honda=Car()\n",
    "porsche = Car()\n",
    "\n",
    "print(type(porsche.color))"
   ]
  },
  {
   "cell_type": "markdown",
   "metadata": {},
   "source": [
    "##### In-Class Exercise #1 - Create a Class 'Car' and Instantiate three different makes of cars"
   ]
  },
  {
   "cell_type": "code",
   "execution_count": 33,
   "metadata": {},
   "outputs": [
    {
     "name": "stdout",
     "output_type": "stream",
     "text": [
      "<class 'int'>\n",
      "<class 'str'>\n",
      "<class 'int'>\n",
      "Turn it on for safety\n",
      "None\n"
     ]
    }
   ],
   "source": [
    "class Car():\n",
    "    doors = 4\n",
    "    bumper = 1\n",
    "    color = 'black'\n",
    "    \n",
    "    def headlight(self,print):\n",
    "       self.print = print(\"Turn it on for safety\")\n",
    "    \n",
    "cambry = Car()\n",
    "nissan= Car()\n",
    "kia= Car()\n",
    "\n",
    "print(type(kia.doors))\n",
    "print(type(nissan.color))\n",
    "print(type(cambry.doors))\n",
    "print(kia.headlight(print))"
   ]
  },
  {
   "cell_type": "markdown",
   "metadata": {},
   "source": [
    "## The \\__init\\__() Method <br>\n",
    "<p>This method is used in almost every created class, and called only once upon the creation of the class instance. This method will initialize all variables needed for the object.</p>"
   ]
  },
  {
   "cell_type": "code",
   "execution_count": 27,
   "metadata": {},
   "outputs": [
    {
     "name": "stdout",
     "output_type": "stream",
     "text": [
      "black\n",
      "blue\n",
      "6\n"
     ]
    }
   ],
   "source": [
    "#  function inside the classes\n",
    "class Car():\n",
    "    engine ='4.7L'  # global variable\n",
    "    \n",
    "    def  __init__(self,color,wheels):\n",
    "        self.color = color\n",
    "        self.wheels = wheels\n",
    "   \n",
    "mazda = Car('black',4)\n",
    "tesla = Car('blue',6)\n",
    "\n",
    "\n",
    "print(mazda.color)\n",
    "print(tesla.color)\n",
    "print(tesla.wheels)\n",
    "    "
   ]
  },
  {
   "cell_type": "markdown",
   "metadata": {},
   "source": [
    "##### The 'self' Attribute <br>\n",
    "<p>This attribute is required to keep track of specific instance's attributes. Without the self attribute, the program would not know how to reference or keep track of an instance's attributes.</p>"
   ]
  },
  {
   "cell_type": "code",
   "execution_count": 57,
   "metadata": {},
   "outputs": [
    {
     "name": "stdout",
     "output_type": "stream",
     "text": [
      "lights are off\n"
     ]
    }
   ],
   "source": [
    "# see above\n",
    "class Car():\n",
    "     \n",
    "    def __init__(self,wipers,light):\n",
    "        self.wipers = wipers\n",
    "        self.light = light\n",
    "                \n",
    "    def wipers_active(self):\n",
    "        if self.wipers == \"on\":\n",
    "            return 'wiper is on'\n",
    "        else:\n",
    "            print(f'Wipers are off')\n",
    "                \n",
    "                \n",
    "    def light_active(self):\n",
    "        if self.light == \"on\":\n",
    "             return 'light is on'  \n",
    "        else:\n",
    "            print(f'lights are off')\n",
    "                \n",
    "                \n",
    "honda_car = Car('on','off')  \n",
    "\n",
    "honda_car.wipers_active()\n",
    "honda_car.light_active()\n",
    "                "
   ]
  },
  {
   "cell_type": "markdown",
   "metadata": {},
   "source": [
    "## Class Attributes <br>\n",
    "<p>While variables are inside of a class, they are referred to as attributes and not variables. When someone says 'attribute' you know they're speaking about a class. Attributes can be initialized through the init method, or outside of it.</p>"
   ]
  },
  {
   "cell_type": "markdown",
   "metadata": {},
   "source": [
    "##### Initializing Attributes"
   ]
  },
  {
   "cell_type": "code",
   "execution_count": 34,
   "metadata": {},
   "outputs": [],
   "source": [
    "# see above\n",
    "class Toy():\n",
    "    kind = 'car'\n",
    "    def __init__(self,rooftop,horn,wheels):\n",
    "        self.rooftop = rooftop\n",
    "        self.horn=horn\n",
    "        self.wheels = wheels\n",
    "\n",
    "        \n",
    "        \n",
    "tonka_truck = Toy(1,1,4)\n",
    "hotwheels_car = Toy(2,3,8)\n",
    "\n"
   ]
  },
  {
   "cell_type": "markdown",
   "metadata": {},
   "source": [
    "##### Accessing Class Attributes"
   ]
  },
  {
   "cell_type": "code",
   "execution_count": 36,
   "metadata": {
    "scrolled": true
   },
   "outputs": [
    {
     "data": {
      "text/plain": [
       "1"
      ]
     },
     "execution_count": 36,
     "metadata": {},
     "output_type": "execute_result"
    }
   ],
   "source": [
    "# See Above\n",
    "tonka_truck.rooftop\n",
    "\n",
    "\n"
   ]
  },
  {
   "cell_type": "markdown",
   "metadata": {},
   "source": [
    "##### Setting Defaults for Attributes"
   ]
  },
  {
   "cell_type": "code",
   "execution_count": 37,
   "metadata": {},
   "outputs": [
    {
     "data": {
      "text/plain": [
       "'blue'"
      ]
     },
     "execution_count": 37,
     "metadata": {},
     "output_type": "execute_result"
    }
   ],
   "source": [
    "class Car():\n",
    "    engine = '4.7L'\n",
    "    \n",
    "    def __init__(self,wheels):\n",
    "        self.wheels = wheels\n",
    "        self.color = 'blue'\n",
    "        \n",
    "honda= Car(4)\n",
    "honda.color\n"
   ]
  },
  {
   "cell_type": "markdown",
   "metadata": {},
   "source": [
    "##### Changing Class Attributes <br>\n",
    "<p>Keep in mind there are global class attributes and then there are attributes only available to each class instance which won't effect other classes.</p>"
   ]
  },
  {
   "cell_type": "code",
   "execution_count": 41,
   "metadata": {},
   "outputs": [
    {
     "name": "stdout",
     "output_type": "stream",
     "text": [
      "Before change blue\n",
      "\n",
      " After change white\n",
      "blue\n"
     ]
    }
   ],
   "source": [
    "jeep = Car(8)\n",
    "\n",
    "print(F'Before change {jeep.color}')\n",
    "      \n",
    "jeep.color ='white'\n",
    " \n",
    "print(f'\\n After change {jeep.color}')\n",
    "print(honda.color)"
   ]
  },
  {
   "cell_type": "code",
   "execution_count": null,
   "metadata": {},
   "outputs": [],
   "source": []
  },
  {
   "cell_type": "markdown",
   "metadata": {},
   "source": [
    "##### In-Class Exercise #2 - Add a doors and seats attribute to your 'Car' class then print out two different instances with different doors and seats"
   ]
  },
  {
   "cell_type": "code",
   "execution_count": 60,
   "metadata": {},
   "outputs": [
    {
     "name": "stdout",
     "output_type": "stream",
     "text": [
      "Honda seta are 2 and doors are 2\n",
      "Cambry seta are 5 and doors are 4\n"
     ]
    }
   ],
   "source": [
    "class Car():\n",
    "     engine = \"4.7L\"\n",
    "        \n",
    "      \n",
    "     def __init__ (self,doors,seats):\n",
    "        self.doors = doors\n",
    "        self.seats = seats\n",
    "    \n",
    "    \n",
    "honda = Car(2,2)  \n",
    "cambry = Car(4,5)\n",
    "\n",
    "\n",
    "print(f'Honda seta are {honda.seats} and doors are {honda.doors}')\n",
    "print(f'Cambry seta are {cambry.seats} and doors are {cambry.doors}')"
   ]
  },
  {
   "cell_type": "markdown",
   "metadata": {},
   "source": [
    "## Class Methods <br>\n",
    "<p>While inside of a class, functions are referred to as 'methods'. If you hear someone mention methods, they're speaking about classes. Methods are essentially functions, but only callable on the instances of a class.</p>"
   ]
  },
  {
   "cell_type": "markdown",
   "metadata": {},
   "source": [
    "##### Creating"
   ]
  },
  {
   "cell_type": "code",
   "execution_count": 19,
   "metadata": {},
   "outputs": [],
   "source": [
    "class ShoppingBag():\n",
    "    \"\"\"\n",
    "       The ShoppingBag class will have handels,capacity and item to place inside.\n",
    "       Attributes : handels-integer, capacity -  string or integer , items-list\n",
    "    \"\"\"\n",
    "    \n",
    "    def __init__(self, handels, capacity, items):\n",
    "        self.handels = handels\n",
    "        self.capacity = capacity\n",
    "        self.items = items\n",
    "        \n",
    "        \n",
    "#     methods that show items in our shopping list \n",
    "    def showShoppingBag(self):\n",
    "        print(\"you have items in your bag\")\n",
    "        for item in self.items:\n",
    "            print(item)\n",
    "    \n",
    "#  show capacity of shopping bag\n",
    "    def showCapacity(self):\n",
    "        print(f\"Your capacity is: {self.capacity}\")\n",
    "              \n",
    "#    Add item \n",
    "    def addToShoppingBag(self):\n",
    "        products = input (\"what would you like to add? \")\n",
    "        self.items.append(products)\n",
    "              \n",
    "# change the capacity\n",
    "    def changeBagCapacity(self, capacity):\n",
    "        self.capacity = capacity\n",
    "              \n",
    "#  increase capacity  \n",
    "    def increaseCapacity(self, changed_capacity = 10):\n",
    "        if isinstance(self.capacity, str):\n",
    "            print(\"we can't add that here\")\n",
    "        else:\n",
    "            self.capacity += changed_capacity\n",
    "                          \n",
    "              "
   ]
  },
  {
   "cell_type": "markdown",
   "metadata": {},
   "source": [
    "##### Calling"
   ]
  },
  {
   "cell_type": "code",
   "execution_count": null,
   "metadata": {},
   "outputs": [],
   "source": [
    "# See Above\n",
    "wholeFoods_bag = ShoppingBag(2,10,['milk','water'])\n",
    "\n",
    "# create a function to run shopping bag methods on our whole food bag\n",
    "def run():\n",
    "    while True:\n",
    "        response = input(\"what you want to do? add/quit/show \")\n",
    "        \n",
    "        if response.lower() == 'quit':\n",
    "            wholeFoods_bag.showShoppingBag()\n",
    "            print(\"Thanks for Shopping\")\n",
    "            break\n",
    "        elif response.lower() == 'add':\n",
    "            wholeFoods_bag.addToShoppingBag()\n",
    "            \n",
    "        elif response.lower() == 'show':\n",
    "            wholeFoods_bag.showShoppingBag()\n",
    "        else:\n",
    "            print(\"Try another command\")\n",
    "            \n",
    "run()            "
   ]
  },
  {
   "cell_type": "markdown",
   "metadata": {},
   "source": [
    "##### Modifying an Attribute's Value Through a Method"
   ]
  },
  {
   "cell_type": "code",
   "execution_count": 105,
   "metadata": {},
   "outputs": [
    {
     "name": "stdout",
     "output_type": "stream",
     "text": [
      "Your capacity is: 40\n",
      "capacity After the change...\n",
      "Your capacity is: 50\n"
     ]
    }
   ],
   "source": [
    "# show the capacity\n",
    "\n",
    "wholeFoods_bag.showCapacity()\n",
    "print(\"capacity After the change...\")\n",
    "wholeFoods_bag.changeBagCapacity(50)\n",
    "wholeFoods_bag.showCapacity()"
   ]
  },
  {
   "cell_type": "markdown",
   "metadata": {},
   "source": [
    "##### Incrementing an Attribute's Value Through a Method"
   ]
  },
  {
   "cell_type": "code",
   "execution_count": 106,
   "metadata": {},
   "outputs": [
    {
     "name": "stdout",
     "output_type": "stream",
     "text": [
      "Your capacity is: 50\n",
      "After Increase:\n",
      "Your capacity is: 60\n"
     ]
    }
   ],
   "source": [
    "# Increase capacity\n",
    "wholeFoods_bag.showCapacity()\n",
    "print(\"After Increase:\")\n",
    "wholeFoods_bag.increaseCapacity()\n",
    "wholeFoods_bag.showCapacity()\n",
    "\n",
    "\n"
   ]
  },
  {
   "cell_type": "markdown",
   "metadata": {},
   "source": [
    "##### In-Class Exercise #3 - Add a method that takes in three parameters of year, doors and seats and prints out a formatted print statement with make, model, year, seats, and doors"
   ]
  },
  {
   "cell_type": "code",
   "execution_count": 132,
   "metadata": {},
   "outputs": [
    {
     "name": "stdout",
     "output_type": "stream",
     "text": [
      "This car is from 2017 and is nissan altima and has a 4 doors and 5seats\n"
     ]
    }
   ],
   "source": [
    "# Create class with 2 paramters inside of the __init__ which are make and model\n",
    "\n",
    "# Inside of the Car class create a method that has 4 parameter in total (self,year,door,seats)\n",
    "\n",
    "# Output: This car is from 2019 and is a Ford Expolorer and has 4 doors and 5 seats\n",
    "\n",
    "class Car():\n",
    "    \n",
    "    def __init__(self,make,model):\n",
    "        self.make = make\n",
    "        self.model = model\n",
    "        \n",
    "    def infoCar(self,year,door,seats):\n",
    "        self.year = year\n",
    "        self.door = door\n",
    "        self.seats = seats\n",
    "        \n",
    "    \n",
    "car_1 = Car('nissan', 'altima')\n",
    "\n",
    "car_1.infoCar(2017,4,5)\n",
    "\n",
    "print(f'This car is from {car_1.year} and is {car_1.make} {car_1.model} and has a {car_1.door} doors and {car_1.seats}seats')\n",
    "    \n"
   ]
  },
  {
   "cell_type": "markdown",
   "metadata": {},
   "source": [
    "## Inheritance <br>\n",
    "<p>You can create a child-parent relationship between two classes by using inheritance. What this allows you to do is have overriding methods, but also inherit traits from the parent class. Think of it as an actual parent and child, the child will inherit the parent's genes, as will the classes in OOP</p>"
   ]
  },
  {
   "cell_type": "markdown",
   "metadata": {},
   "source": [
    "##### Syntax for Inheriting from a Parent Class"
   ]
  },
  {
   "cell_type": "code",
   "execution_count": 151,
   "metadata": {},
   "outputs": [
    {
     "name": "stdout",
     "output_type": "stream",
     "text": [
      "bark\n",
      "Make some generic sound\n",
      "None\n",
      "9.8\n",
      "15\n"
     ]
    }
   ],
   "source": [
    "#  parent class\n",
    "class Animal():\n",
    "    acceleration = 9.8\n",
    "    \n",
    "    def __init__(self, name, species, legs = 4):\n",
    "        self.name = name\n",
    "        self.species = species\n",
    "        self.legs = legs\n",
    "        \n",
    "#generic Parent method\n",
    "    def makeSound(self):\n",
    "        print(\"Make some generic sound\")\n",
    "\n",
    "        \n",
    "#child class\n",
    "class Dog(Animal):\n",
    "    speed= 15\n",
    "    \n",
    "    def printInfo(self):\n",
    "        print(f\"The Dog has {self.speed}mph in speed and {self.acceleration}\")\n",
    "              \n",
    "# creation of Grand-child \n",
    "class  Mutt(Dog):\n",
    "    color = \"tan\"\n",
    "             \n",
    "    #override Animal class -using the Dog class to ovetwrite __int__ from Animal\n",
    "    def __init__(self,name,species,eye_color,legs=4):\n",
    "        Dog. __init__(self,name,species,legs)\n",
    "        self.eye_color = eye_color\n",
    "              \n",
    "     # override the makeSound method (which is coming from ... ANIMAL)\n",
    "    def makeSound(self):\n",
    "        noise =\"bark\"\n",
    "        return noise\n",
    "\n",
    "              \n",
    "lassie = Dog('Lassie', 'Dog')   \n",
    "basic_animal = Animal ('Generic Animal Name', 'Generic Animal Species')              \n",
    "buster = Mutt ('buster', 'Mutt','brown') \n",
    "              \n",
    "print(buster.makeSound())              \n",
    "print(lassie.makeSound())\n",
    "print(buster.acceleration)\n",
    "print(buster.speed)             "
   ]
  },
  {
   "cell_type": "markdown",
   "metadata": {},
   "source": [
    "##### The \\__init\\__() Method for a Child Class - super()"
   ]
  },
  {
   "cell_type": "code",
   "execution_count": 155,
   "metadata": {
    "scrolled": true
   },
   "outputs": [
    {
     "name": "stdout",
     "output_type": "stream",
     "text": [
      "bark\n",
      "Make some generic sound\n",
      "None\n",
      "9.8\n",
      "15\n"
     ]
    }
   ],
   "source": [
    "class Puppy():\n",
    "    color = \"black and brown\"\n",
    "    #override  the Animal Class __init__(via Dog Class)\n",
    "    def __init__(self, name,speciecs,eye_color,legs):\n",
    "        super(). __int__(name,species,legs)\n",
    "        self.eye_color = eye_color\n",
    "        \n",
    "    # override makeSound\n",
    "    def makeSound():\n",
    "        noise ='bark'\n",
    "        return noise\n",
    "print(buster.makeSound())              \n",
    "print(lassie.makeSound())\n",
    "print(buster.acceleration)\n",
    "print(buster.speed)                \n",
    " "
   ]
  },
  {
   "cell_type": "markdown",
   "metadata": {},
   "source": [
    "##### Defining Attributes and Methods for the Child Class"
   ]
  },
  {
   "cell_type": "code",
   "execution_count": null,
   "metadata": {},
   "outputs": [],
   "source": [
    "# See Above"
   ]
  },
  {
   "cell_type": "markdown",
   "metadata": {},
   "source": [
    "##### Method Overriding"
   ]
  },
  {
   "cell_type": "code",
   "execution_count": null,
   "metadata": {},
   "outputs": [],
   "source": [
    "# See Above"
   ]
  },
  {
   "cell_type": "markdown",
   "metadata": {},
   "source": [
    "## Classes as Attributes <br>\n",
    "<p>Classes can also be used as attributes within another class. This is useful in situations where you need to keep variables locally stored, instead of globally stored.</p>"
   ]
  },
  {
   "cell_type": "code",
   "execution_count": 160,
   "metadata": {},
   "outputs": [
    {
     "name": "stdout",
     "output_type": "stream",
     "text": [
      "20\n"
     ]
    },
    {
     "data": {
      "text/plain": [
       "'2019 tesla Model x 20'"
      ]
     },
     "execution_count": 160,
     "metadata": {},
     "output_type": "execute_result"
    }
   ],
   "source": [
    "class Battery():\n",
    "    volts = 7.8\n",
    "    \n",
    "    def __init__(self,cells):\n",
    "        self.cells = cells\n",
    "class Car():\n",
    "    def __init__(self, year, make, model, battery):\n",
    "        self.year = year\n",
    "        self.make = make\n",
    "        self.model = model\n",
    "        self.battery = battery\n",
    "        \n",
    "    def printInfo(self):\n",
    "        return f'{self.year} {self.make} {self.model} {self.battery.cells}'\n",
    "    \n",
    "my_battery = Battery(20)\n",
    "    \n",
    "tesla = Car(2019, 'tesla', 'Model x', my_battery)\n",
    "    \n",
    "print(tesla.battery.cells)\n",
    "tesla.printInfo()"
   ]
  },
  {
   "cell_type": "markdown",
   "metadata": {},
   "source": [
    "# Exercises"
   ]
  },
  {
   "cell_type": "markdown",
   "metadata": {},
   "source": [
    "### Exercise 1 - Turn the shopping cart program from yesterday into an object-oriented program\n",
    "\n",
    "The comments in the cell below are there as a guide for thinking about the problem. However, if you feel a different way is best for you and your own thought process, please do what feels best for you by all means."
   ]
  },
  {
   "cell_type": "code",
   "execution_count": 34,
   "metadata": {},
   "outputs": [
    {
     "name": "stdout",
     "output_type": "stream",
     "text": [
      "What you want to do add/remove/show/quit items from your list? add\n",
      "what do you want to add? water\n",
      "What you want to do add/remove/show/quit items from your list? add\n",
      "what do you want to add? milk\n",
      "What you want to do add/remove/show/quit items from your list? add\n",
      "what do you want to add? fruits\n",
      "What you want to do add/remove/show/quit items from your list? show\n",
      "you have following items:\n",
      "water\n",
      "milk\n",
      "fruits\n",
      "What you want to do add/remove/show/quit items from your list? remove\n",
      "Enter item you want to remove fruits\n",
      "You have following item in your list: ['water', 'milk']\n",
      "What you want to do add/remove/show/quit items from your list? quit\n",
      "you have following items:\n",
      "water\n",
      "milk\n",
      "Thanks for Shopping!\n"
     ]
    }
   ],
   "source": [
    "# Create a class called cart that retains items and has methods to add, remove, and show\n",
    "\n",
    "class Cart():\n",
    "    \n",
    "    \n",
    "    def __init__(self,list):\n",
    "        self.list = list\n",
    "       \n",
    "        \n",
    "        \n",
    "    def cartAdd(self):\n",
    "        add = input(\"what do you want to add? \")\n",
    "        self.list.append(add)\n",
    "        \n",
    "        \n",
    "    def cartRemove (self):\n",
    "        delete = input(\"Enter item you want to remove \")\n",
    "        for i in self.list:\n",
    "            if i == delete:\n",
    "                self.list.remove(i)\n",
    "                print(f\"You have following item in your list: {self.list}\")\n",
    "    \n",
    "    def cartShow(self):\n",
    "        print(f'you have following items in your cart:')\n",
    "        for i in self.list:\n",
    "            print(i)\n",
    "           \n",
    "   \n",
    "\n",
    "            \n",
    "shop = Cart([])           \n",
    "            \n",
    "def run():\n",
    "    \n",
    "    while True:\n",
    "        response = input(\"What you want to do add/remove/show/quit items from your list? \")\n",
    "            \n",
    "        if response.lower() == 'add':\n",
    "            shop.cartAdd()\n",
    "                \n",
    "        elif response.lower() == 'remove':\n",
    "            shop.cartRemove()\n",
    "                \n",
    "        elif response.lower() == 'show':\n",
    "            shop.cartShow()\n",
    "            \n",
    "        elif response == 'quit':\n",
    "            shop.cartShow()\n",
    "            print(\"Thanks for Shopping!\")\n",
    "            break\n",
    "        else:\n",
    "            print(\"Try something else\")\n",
    "                \n",
    "                               \n",
    "run()  \n",
    "\n"
   ]
  },
  {
   "cell_type": "markdown",
   "metadata": {},
   "source": [
    "### Exercise 2 - Write a Python class which has two methods get_String and print_String. get_String accept a string from the user and print_String print the string in upper case"
   ]
  },
  {
   "cell_type": "code",
   "execution_count": 70,
   "metadata": {},
   "outputs": [
    {
     "name": "stdout",
     "output_type": "stream",
     "text": [
      "Enter the string: monika patel\n",
      "MONIKA PATEL\n"
     ]
    }
   ],
   "source": [
    "class Printstring():\n",
    "     \n",
    "        \n",
    "    def __init__(self):\n",
    "         pass   \n",
    "        \n",
    "    def get_String(self):\n",
    "        self.string = input(\"Enter the string: \")\n",
    "        \n",
    "        \n",
    "    def print_String(self):\n",
    "        print(self.string.upper())\n",
    "        \n",
    "run1 = Printstring()\n",
    "\n",
    "run1.get_String()\n",
    "\n",
    "run1.print_String()\n"
   ]
  },
  {
   "cell_type": "code",
   "execution_count": null,
   "metadata": {},
   "outputs": [],
   "source": []
  },
  {
   "cell_type": "code",
   "execution_count": null,
   "metadata": {},
   "outputs": [],
   "source": []
  }
 ],
 "metadata": {
  "kernelspec": {
   "display_name": "Python 3 (ipykernel)",
   "language": "python",
   "name": "python3"
  },
  "language_info": {
   "codemirror_mode": {
    "name": "ipython",
    "version": 3
   },
   "file_extension": ".py",
   "mimetype": "text/x-python",
   "name": "python",
   "nbconvert_exporter": "python",
   "pygments_lexer": "ipython3",
   "version": "3.9.7"
  }
 },
 "nbformat": 4,
 "nbformat_minor": 2
}
